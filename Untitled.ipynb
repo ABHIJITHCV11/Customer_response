{
 "cells": [
  {
   "cell_type": "markdown",
   "id": "6231058f",
   "metadata": {},
   "source": [
    "## Comprehension\n",
    "ASCB Bank is a fictional bank that conducted a marketing campaign recently in order to understand its customer demographics and offered a new scheme that they have employed. The following dataset contains information related to the entire campaign. The major variable that is needed to be investigated is the 'response' which determines whether the customer responded 'yes' or 'no' to the new scheme."
   ]
  },
  {
   "cell_type": "code",
   "execution_count": 16,
   "id": "8b0be8d3",
   "metadata": {},
   "outputs": [],
   "source": [
    "import pandas as pd\n",
    "import numpy as np\n",
    "import matplotlib.pyplot as plt\n",
    "import seaborn as sns"
   ]
  },
  {
   "cell_type": "code",
   "execution_count": 2,
   "id": "5fba547d",
   "metadata": {
    "scrolled": false
   },
   "outputs": [
    {
     "data": {
      "text/html": [
       "<div>\n",
       "<style scoped>\n",
       "    .dataframe tbody tr th:only-of-type {\n",
       "        vertical-align: middle;\n",
       "    }\n",
       "\n",
       "    .dataframe tbody tr th {\n",
       "        vertical-align: top;\n",
       "    }\n",
       "\n",
       "    .dataframe thead th {\n",
       "        text-align: right;\n",
       "    }\n",
       "</style>\n",
       "<table border=\"1\" class=\"dataframe\">\n",
       "  <thead>\n",
       "    <tr style=\"text-align: right;\">\n",
       "      <th></th>\n",
       "      <th>age</th>\n",
       "      <th>job</th>\n",
       "      <th>marital</th>\n",
       "      <th>education</th>\n",
       "      <th>targeted</th>\n",
       "      <th>default</th>\n",
       "      <th>balance</th>\n",
       "      <th>housing</th>\n",
       "      <th>loan</th>\n",
       "      <th>contact</th>\n",
       "      <th>day</th>\n",
       "      <th>month</th>\n",
       "      <th>duration</th>\n",
       "      <th>response</th>\n",
       "    </tr>\n",
       "  </thead>\n",
       "  <tbody>\n",
       "    <tr>\n",
       "      <th>0</th>\n",
       "      <td>58</td>\n",
       "      <td>management</td>\n",
       "      <td>married</td>\n",
       "      <td>tertiary</td>\n",
       "      <td>yes</td>\n",
       "      <td>no</td>\n",
       "      <td>2143</td>\n",
       "      <td>yes</td>\n",
       "      <td>no</td>\n",
       "      <td>unknown</td>\n",
       "      <td>5</td>\n",
       "      <td>may</td>\n",
       "      <td>261</td>\n",
       "      <td>no</td>\n",
       "    </tr>\n",
       "    <tr>\n",
       "      <th>1</th>\n",
       "      <td>44</td>\n",
       "      <td>technician</td>\n",
       "      <td>single</td>\n",
       "      <td>secondary</td>\n",
       "      <td>yes</td>\n",
       "      <td>no</td>\n",
       "      <td>29</td>\n",
       "      <td>yes</td>\n",
       "      <td>no</td>\n",
       "      <td>unknown</td>\n",
       "      <td>5</td>\n",
       "      <td>may</td>\n",
       "      <td>151</td>\n",
       "      <td>no</td>\n",
       "    </tr>\n",
       "    <tr>\n",
       "      <th>2</th>\n",
       "      <td>33</td>\n",
       "      <td>entrepreneur</td>\n",
       "      <td>married</td>\n",
       "      <td>secondary</td>\n",
       "      <td>yes</td>\n",
       "      <td>no</td>\n",
       "      <td>2</td>\n",
       "      <td>yes</td>\n",
       "      <td>yes</td>\n",
       "      <td>unknown</td>\n",
       "      <td>5</td>\n",
       "      <td>may</td>\n",
       "      <td>76</td>\n",
       "      <td>no</td>\n",
       "    </tr>\n",
       "    <tr>\n",
       "      <th>3</th>\n",
       "      <td>47</td>\n",
       "      <td>blue-collar</td>\n",
       "      <td>married</td>\n",
       "      <td>unknown</td>\n",
       "      <td>no</td>\n",
       "      <td>no</td>\n",
       "      <td>1506</td>\n",
       "      <td>yes</td>\n",
       "      <td>no</td>\n",
       "      <td>unknown</td>\n",
       "      <td>5</td>\n",
       "      <td>may</td>\n",
       "      <td>92</td>\n",
       "      <td>no</td>\n",
       "    </tr>\n",
       "    <tr>\n",
       "      <th>4</th>\n",
       "      <td>33</td>\n",
       "      <td>unknown</td>\n",
       "      <td>single</td>\n",
       "      <td>unknown</td>\n",
       "      <td>no</td>\n",
       "      <td>no</td>\n",
       "      <td>1</td>\n",
       "      <td>no</td>\n",
       "      <td>no</td>\n",
       "      <td>unknown</td>\n",
       "      <td>5</td>\n",
       "      <td>may</td>\n",
       "      <td>198</td>\n",
       "      <td>no</td>\n",
       "    </tr>\n",
       "  </tbody>\n",
       "</table>\n",
       "</div>"
      ],
      "text/plain": [
       "   age           job  marital  education targeted default  balance housing  \\\n",
       "0   58    management  married   tertiary      yes      no     2143     yes   \n",
       "1   44    technician   single  secondary      yes      no       29     yes   \n",
       "2   33  entrepreneur  married  secondary      yes      no        2     yes   \n",
       "3   47   blue-collar  married    unknown       no      no     1506     yes   \n",
       "4   33       unknown   single    unknown       no      no        1      no   \n",
       "\n",
       "  loan  contact  day month  duration response  \n",
       "0   no  unknown    5   may       261       no  \n",
       "1   no  unknown    5   may       151       no  \n",
       "2  yes  unknown    5   may        76       no  \n",
       "3   no  unknown    5   may        92       no  \n",
       "4   no  unknown    5   may       198       no  "
      ]
     },
     "execution_count": 2,
     "metadata": {},
     "output_type": "execute_result"
    }
   ],
   "source": [
    "inp0 = pd.read_excel('bank+marketing.xlsx')\n",
    "inp0.head()"
   ]
  },
  {
   "cell_type": "code",
   "execution_count": 109,
   "id": "6fa1fc72",
   "metadata": {},
   "outputs": [
    {
     "data": {
      "text/html": [
       "<div>\n",
       "<style scoped>\n",
       "    .dataframe tbody tr th:only-of-type {\n",
       "        vertical-align: middle;\n",
       "    }\n",
       "\n",
       "    .dataframe tbody tr th {\n",
       "        vertical-align: top;\n",
       "    }\n",
       "\n",
       "    .dataframe thead th {\n",
       "        text-align: right;\n",
       "    }\n",
       "</style>\n",
       "<table border=\"1\" class=\"dataframe\">\n",
       "  <thead>\n",
       "    <tr style=\"text-align: right;\">\n",
       "      <th></th>\n",
       "      <th>Job</th>\n",
       "      <th>Average Income</th>\n",
       "    </tr>\n",
       "  </thead>\n",
       "  <tbody>\n",
       "    <tr>\n",
       "      <th>0</th>\n",
       "      <td>admin.</td>\n",
       "      <td>50000</td>\n",
       "    </tr>\n",
       "    <tr>\n",
       "      <th>1</th>\n",
       "      <td>technician</td>\n",
       "      <td>60000</td>\n",
       "    </tr>\n",
       "    <tr>\n",
       "      <th>2</th>\n",
       "      <td>services</td>\n",
       "      <td>70000</td>\n",
       "    </tr>\n",
       "    <tr>\n",
       "      <th>3</th>\n",
       "      <td>management</td>\n",
       "      <td>100000</td>\n",
       "    </tr>\n",
       "    <tr>\n",
       "      <th>4</th>\n",
       "      <td>retired</td>\n",
       "      <td>55000</td>\n",
       "    </tr>\n",
       "  </tbody>\n",
       "</table>\n",
       "</div>"
      ],
      "text/plain": [
       "          Job  Average Income\n",
       "0      admin.           50000\n",
       "1  technician           60000\n",
       "2    services           70000\n",
       "3  management          100000\n",
       "4     retired           55000"
      ]
     },
     "execution_count": 109,
     "metadata": {},
     "output_type": "execute_result"
    }
   ],
   "source": [
    "# Read the second sheet\n",
    "inp1 = pd.read_excel('bank+marketing.xlsx',sheet_name='Income')\n",
    "inp1.head()"
   ]
  },
  {
   "cell_type": "markdown",
   "id": "85272c75",
   "metadata": {},
   "source": [
    "### Question 1\n",
    "What is the average response rate across all the customers?"
   ]
  },
  {
   "cell_type": "code",
   "execution_count": 3,
   "id": "d897198f",
   "metadata": {},
   "outputs": [
    {
     "data": {
      "text/html": [
       "<div>\n",
       "<style scoped>\n",
       "    .dataframe tbody tr th:only-of-type {\n",
       "        vertical-align: middle;\n",
       "    }\n",
       "\n",
       "    .dataframe tbody tr th {\n",
       "        vertical-align: top;\n",
       "    }\n",
       "\n",
       "    .dataframe thead th {\n",
       "        text-align: right;\n",
       "    }\n",
       "</style>\n",
       "<table border=\"1\" class=\"dataframe\">\n",
       "  <thead>\n",
       "    <tr style=\"text-align: right;\">\n",
       "      <th></th>\n",
       "      <th>age</th>\n",
       "      <th>job</th>\n",
       "      <th>marital</th>\n",
       "      <th>education</th>\n",
       "      <th>targeted</th>\n",
       "      <th>default</th>\n",
       "      <th>balance</th>\n",
       "      <th>housing</th>\n",
       "      <th>loan</th>\n",
       "      <th>contact</th>\n",
       "      <th>day</th>\n",
       "      <th>month</th>\n",
       "      <th>duration</th>\n",
       "      <th>response</th>\n",
       "      <th>response_flag</th>\n",
       "    </tr>\n",
       "  </thead>\n",
       "  <tbody>\n",
       "    <tr>\n",
       "      <th>0</th>\n",
       "      <td>58</td>\n",
       "      <td>management</td>\n",
       "      <td>married</td>\n",
       "      <td>tertiary</td>\n",
       "      <td>yes</td>\n",
       "      <td>no</td>\n",
       "      <td>2143</td>\n",
       "      <td>yes</td>\n",
       "      <td>no</td>\n",
       "      <td>unknown</td>\n",
       "      <td>5</td>\n",
       "      <td>may</td>\n",
       "      <td>261</td>\n",
       "      <td>no</td>\n",
       "      <td>0</td>\n",
       "    </tr>\n",
       "    <tr>\n",
       "      <th>1</th>\n",
       "      <td>44</td>\n",
       "      <td>technician</td>\n",
       "      <td>single</td>\n",
       "      <td>secondary</td>\n",
       "      <td>yes</td>\n",
       "      <td>no</td>\n",
       "      <td>29</td>\n",
       "      <td>yes</td>\n",
       "      <td>no</td>\n",
       "      <td>unknown</td>\n",
       "      <td>5</td>\n",
       "      <td>may</td>\n",
       "      <td>151</td>\n",
       "      <td>no</td>\n",
       "      <td>0</td>\n",
       "    </tr>\n",
       "    <tr>\n",
       "      <th>2</th>\n",
       "      <td>33</td>\n",
       "      <td>entrepreneur</td>\n",
       "      <td>married</td>\n",
       "      <td>secondary</td>\n",
       "      <td>yes</td>\n",
       "      <td>no</td>\n",
       "      <td>2</td>\n",
       "      <td>yes</td>\n",
       "      <td>yes</td>\n",
       "      <td>unknown</td>\n",
       "      <td>5</td>\n",
       "      <td>may</td>\n",
       "      <td>76</td>\n",
       "      <td>no</td>\n",
       "      <td>0</td>\n",
       "    </tr>\n",
       "    <tr>\n",
       "      <th>3</th>\n",
       "      <td>47</td>\n",
       "      <td>blue-collar</td>\n",
       "      <td>married</td>\n",
       "      <td>unknown</td>\n",
       "      <td>no</td>\n",
       "      <td>no</td>\n",
       "      <td>1506</td>\n",
       "      <td>yes</td>\n",
       "      <td>no</td>\n",
       "      <td>unknown</td>\n",
       "      <td>5</td>\n",
       "      <td>may</td>\n",
       "      <td>92</td>\n",
       "      <td>no</td>\n",
       "      <td>0</td>\n",
       "    </tr>\n",
       "    <tr>\n",
       "      <th>4</th>\n",
       "      <td>33</td>\n",
       "      <td>unknown</td>\n",
       "      <td>single</td>\n",
       "      <td>unknown</td>\n",
       "      <td>no</td>\n",
       "      <td>no</td>\n",
       "      <td>1</td>\n",
       "      <td>no</td>\n",
       "      <td>no</td>\n",
       "      <td>unknown</td>\n",
       "      <td>5</td>\n",
       "      <td>may</td>\n",
       "      <td>198</td>\n",
       "      <td>no</td>\n",
       "      <td>0</td>\n",
       "    </tr>\n",
       "  </tbody>\n",
       "</table>\n",
       "</div>"
      ],
      "text/plain": [
       "   age           job  marital  education targeted default  balance housing  \\\n",
       "0   58    management  married   tertiary      yes      no     2143     yes   \n",
       "1   44    technician   single  secondary      yes      no       29     yes   \n",
       "2   33  entrepreneur  married  secondary      yes      no        2     yes   \n",
       "3   47   blue-collar  married    unknown       no      no     1506     yes   \n",
       "4   33       unknown   single    unknown       no      no        1      no   \n",
       "\n",
       "  loan  contact  day month  duration response  response_flag  \n",
       "0   no  unknown    5   may       261       no              0  \n",
       "1   no  unknown    5   may       151       no              0  \n",
       "2  yes  unknown    5   may        76       no              0  \n",
       "3   no  unknown    5   may        92       no              0  \n",
       "4   no  unknown    5   may       198       no              0  "
      ]
     },
     "execution_count": 3,
     "metadata": {},
     "output_type": "execute_result"
    }
   ],
   "source": [
    "# Create a new column called Response Rate which stores 1 if the customer has responded 'yes' \n",
    "# to the campaign and 0 if the customer has responded 'no' to the campaign\n",
    "\n",
    "inp0['response_flag'] = inp0.response.map(lambda x: 1 if x =='yes' else 0)\n",
    "inp0.head()"
   ]
  },
  {
   "cell_type": "code",
   "execution_count": 4,
   "id": "bc8fcd47",
   "metadata": {},
   "outputs": [
    {
     "data": {
      "text/plain": [
       "0    0.883015\n",
       "1    0.116985\n",
       "Name: response_flag, dtype: float64"
      ]
     },
     "execution_count": 4,
     "metadata": {},
     "output_type": "execute_result"
    }
   ],
   "source": [
    "inp0['response_flag'].value_counts(normalize=True)"
   ]
  },
  {
   "cell_type": "code",
   "execution_count": 6,
   "id": "8d9147b9",
   "metadata": {},
   "outputs": [
    {
     "data": {
      "text/plain": [
       "0.11698480458295547"
      ]
     },
     "execution_count": 6,
     "metadata": {},
     "output_type": "execute_result"
    }
   ],
   "source": [
    "inp0['response_flag'].mean()"
   ]
  },
  {
   "cell_type": "code",
   "execution_count": 50,
   "id": "c7b2d3c7",
   "metadata": {},
   "outputs": [
    {
     "data": {
      "image/png": "[encoded data removed]",
      "text/plain": [
       "<Figure size 432x288 with 1 Axes>"
      ]
     },
     "metadata": {},
     "output_type": "display_data"
    }
   ],
   "source": [
    "plt.pie(x = inp0['response_flag'].value_counts(normalize=True),explode=[0.2,0],shadow=True,)\n",
    "plt.legend(labels=['no','yes'])\n",
    "plt.show()"
   ]
  },
  {
   "cell_type": "markdown",
   "id": "f4e16d2f",
   "metadata": {},
   "source": [
    "##### * The average response rate is 11.7 %"
   ]
  },
  {
   "cell_type": "markdown",
   "id": "df5f4a24",
   "metadata": {},
   "source": [
    "### Question 2\n",
    "Which are the job categories that have the top 2 average response rates?"
   ]
  },
  {
   "cell_type": "code",
   "execution_count": 7,
   "id": "dbe23950",
   "metadata": {
    "scrolled": true
   },
   "outputs": [
    {
     "data": {
      "text/plain": [
       "job\n",
       "admin.            631\n",
       "blue-collar       708\n",
       "entrepreneur      123\n",
       "housemaid         109\n",
       "management       1301\n",
       "retired           516\n",
       "self-employed     187\n",
       "services          369\n",
       "student           269\n",
       "technician        840\n",
       "unemployed        202\n",
       "unknown            34\n",
       "Name: response_flag, dtype: int64"
      ]
     },
     "execution_count": 7,
     "metadata": {},
     "output_type": "execute_result"
    }
   ],
   "source": [
    "inp0.groupby('job').response_flag.sum() #Total response flag for each job category"
   ]
  },
  {
   "cell_type": "code",
   "execution_count": 8,
   "id": "316d943f",
   "metadata": {},
   "outputs": [
    {
     "data": {
      "text/plain": [
       "job\n",
       "admin.           5171\n",
       "blue-collar      9732\n",
       "entrepreneur     1487\n",
       "housemaid        1240\n",
       "management       9458\n",
       "retired          2264\n",
       "self-employed    1579\n",
       "services         4154\n",
       "student           938\n",
       "technician       7597\n",
       "unemployed       1303\n",
       "unknown           288\n",
       "Name: job, dtype: int64"
      ]
     },
     "execution_count": 8,
     "metadata": {},
     "output_type": "execute_result"
    }
   ],
   "source": [
    "inp0.groupby('job').job.count() #Total job count for each job category"
   ]
  },
  {
   "cell_type": "code",
   "execution_count": 12,
   "id": "bcf85b4c",
   "metadata": {},
   "outputs": [
    {
     "data": {
      "text/plain": [
       "job\n",
       "admin.           0.122027\n",
       "blue-collar      0.072750\n",
       "entrepreneur     0.082717\n",
       "housemaid        0.087903\n",
       "management       0.137556\n",
       "retired          0.227915\n",
       "self-employed    0.118429\n",
       "services         0.088830\n",
       "student          0.286780\n",
       "technician       0.110570\n",
       "unemployed       0.155027\n",
       "unknown          0.118056\n",
       "dtype: float64"
      ]
     },
     "execution_count": 12,
     "metadata": {},
     "output_type": "execute_result"
    }
   ],
   "source": [
    "average_response_rates_job = inp0.groupby('job').response_flag.sum()/inp0.groupby('job').job.count()\n",
    "average_response_rates_job"
   ]
  },
  {
   "cell_type": "code",
   "execution_count": 14,
   "id": "065f6843",
   "metadata": {},
   "outputs": [
    {
     "data": {
      "text/plain": [
       "job\n",
       "student          0.286780\n",
       "retired          0.227915\n",
       "unemployed       0.155027\n",
       "management       0.137556\n",
       "admin.           0.122027\n",
       "self-employed    0.118429\n",
       "unknown          0.118056\n",
       "technician       0.110570\n",
       "services         0.088830\n",
       "housemaid        0.087903\n",
       "entrepreneur     0.082717\n",
       "blue-collar      0.072750\n",
       "dtype: float64"
      ]
     },
     "execution_count": 14,
     "metadata": {},
     "output_type": "execute_result"
    }
   ],
   "source": [
    "average_response_rates_job.sort_values(ascending=False)"
   ]
  },
  {
   "cell_type": "code",
   "execution_count": 82,
   "id": "1e705d02",
   "metadata": {},
   "outputs": [
    {
     "data": {
      "image/png": "[encoded data removed]",
      "text/plain": [
       "<Figure size 576x360 with 1 Axes>"
      ]
     },
     "metadata": {
      "needs_background": "light"
     },
     "output_type": "display_data"
    }
   ],
   "source": [
    "plt.figure(figsize=[8,5])\n",
    "sns.barplot(x = average_response_rates_job.sort_values(ascending=False),y = average_response_rates_job.sort_values(ascending=False).index)\n",
    "\n",
    "plt.show()"
   ]
  },
  {
   "cell_type": "markdown",
   "id": "3ad925f2",
   "metadata": {},
   "source": [
    "##### * job categories that have the top 2 average response rates are 'student' and 'retired'"
   ]
  },
  {
   "cell_type": "markdown",
   "id": "bac08282",
   "metadata": {},
   "source": [
    "#### Insight Analysis\n",
    "\n",
    "Historically, the trends have shown that most working professionals(categories other than the student and retired) have a much higher response rate to the campaign than the student or the retired category.\n",
    "But here we see that it is not the case. ('student' and 'retired') have highest respose rate on average.\n",
    "\n",
    "The given result shows that the two categories which generally don't have high response rates have now shown the highest response rate. Thus the insight is a surprising extreme."
   ]
  },
  {
   "cell_type": "markdown",
   "id": "c4008cd3",
   "metadata": {},
   "source": [
    "### Question 3\n",
    "How many job categories have a response rate of less than than 9%."
   ]
  },
  {
   "cell_type": "code",
   "execution_count": 83,
   "id": "0e88f0c9",
   "metadata": {
    "scrolled": true
   },
   "outputs": [
    {
     "data": {
      "text/html": [
       "<div>\n",
       "<style scoped>\n",
       "    .dataframe tbody tr th:only-of-type {\n",
       "        vertical-align: middle;\n",
       "    }\n",
       "\n",
       "    .dataframe tbody tr th {\n",
       "        vertical-align: top;\n",
       "    }\n",
       "\n",
       "    .dataframe thead th {\n",
       "        text-align: right;\n",
       "    }\n",
       "</style>\n",
       "<table border=\"1\" class=\"dataframe\">\n",
       "  <thead>\n",
       "    <tr style=\"text-align: right;\">\n",
       "      <th></th>\n",
       "      <th>age</th>\n",
       "      <th>job</th>\n",
       "      <th>marital</th>\n",
       "      <th>education</th>\n",
       "      <th>targeted</th>\n",
       "      <th>default</th>\n",
       "      <th>balance</th>\n",
       "      <th>housing</th>\n",
       "      <th>loan</th>\n",
       "      <th>contact</th>\n",
       "      <th>day</th>\n",
       "      <th>month</th>\n",
       "      <th>duration</th>\n",
       "      <th>response</th>\n",
       "      <th>response_flag</th>\n",
       "    </tr>\n",
       "  </thead>\n",
       "  <tbody>\n",
       "    <tr>\n",
       "      <th>0</th>\n",
       "      <td>58</td>\n",
       "      <td>management</td>\n",
       "      <td>married</td>\n",
       "      <td>tertiary</td>\n",
       "      <td>yes</td>\n",
       "      <td>no</td>\n",
       "      <td>2143</td>\n",
       "      <td>yes</td>\n",
       "      <td>no</td>\n",
       "      <td>unknown</td>\n",
       "      <td>5</td>\n",
       "      <td>may</td>\n",
       "      <td>261</td>\n",
       "      <td>no</td>\n",
       "      <td>0</td>\n",
       "    </tr>\n",
       "    <tr>\n",
       "      <th>1</th>\n",
       "      <td>44</td>\n",
       "      <td>technician</td>\n",
       "      <td>single</td>\n",
       "      <td>secondary</td>\n",
       "      <td>yes</td>\n",
       "      <td>no</td>\n",
       "      <td>29</td>\n",
       "      <td>yes</td>\n",
       "      <td>no</td>\n",
       "      <td>unknown</td>\n",
       "      <td>5</td>\n",
       "      <td>may</td>\n",
       "      <td>151</td>\n",
       "      <td>no</td>\n",
       "      <td>0</td>\n",
       "    </tr>\n",
       "    <tr>\n",
       "      <th>2</th>\n",
       "      <td>33</td>\n",
       "      <td>entrepreneur</td>\n",
       "      <td>married</td>\n",
       "      <td>secondary</td>\n",
       "      <td>yes</td>\n",
       "      <td>no</td>\n",
       "      <td>2</td>\n",
       "      <td>yes</td>\n",
       "      <td>yes</td>\n",
       "      <td>unknown</td>\n",
       "      <td>5</td>\n",
       "      <td>may</td>\n",
       "      <td>76</td>\n",
       "      <td>no</td>\n",
       "      <td>0</td>\n",
       "    </tr>\n",
       "    <tr>\n",
       "      <th>3</th>\n",
       "      <td>47</td>\n",
       "      <td>blue-collar</td>\n",
       "      <td>married</td>\n",
       "      <td>unknown</td>\n",
       "      <td>no</td>\n",
       "      <td>no</td>\n",
       "      <td>1506</td>\n",
       "      <td>yes</td>\n",
       "      <td>no</td>\n",
       "      <td>unknown</td>\n",
       "      <td>5</td>\n",
       "      <td>may</td>\n",
       "      <td>92</td>\n",
       "      <td>no</td>\n",
       "      <td>0</td>\n",
       "    </tr>\n",
       "    <tr>\n",
       "      <th>4</th>\n",
       "      <td>33</td>\n",
       "      <td>unknown</td>\n",
       "      <td>single</td>\n",
       "      <td>unknown</td>\n",
       "      <td>no</td>\n",
       "      <td>no</td>\n",
       "      <td>1</td>\n",
       "      <td>no</td>\n",
       "      <td>no</td>\n",
       "      <td>unknown</td>\n",
       "      <td>5</td>\n",
       "      <td>may</td>\n",
       "      <td>198</td>\n",
       "      <td>no</td>\n",
       "      <td>0</td>\n",
       "    </tr>\n",
       "  </tbody>\n",
       "</table>\n",
       "</div>"
      ],
      "text/plain": [
       "   age           job  marital  education targeted default  balance housing  \\\n",
       "0   58    management  married   tertiary      yes      no     2143     yes   \n",
       "1   44    technician   single  secondary      yes      no       29     yes   \n",
       "2   33  entrepreneur  married  secondary      yes      no        2     yes   \n",
       "3   47   blue-collar  married    unknown       no      no     1506     yes   \n",
       "4   33       unknown   single    unknown       no      no        1      no   \n",
       "\n",
       "  loan  contact  day month  duration response  response_flag  \n",
       "0   no  unknown    5   may       261       no              0  \n",
       "1   no  unknown    5   may       151       no              0  \n",
       "2  yes  unknown    5   may        76       no              0  \n",
       "3   no  unknown    5   may        92       no              0  \n",
       "4   no  unknown    5   may       198       no              0  "
      ]
     },
     "execution_count": 83,
     "metadata": {},
     "output_type": "execute_result"
    }
   ],
   "source": [
    "inp0.head()"
   ]
  },
  {
   "cell_type": "code",
   "execution_count": 101,
   "id": "9dcc3617",
   "metadata": {
    "scrolled": true
   },
   "outputs": [
    {
     "data": {
      "text/plain": [
       "job\n",
       "admin.           False\n",
       "blue-collar       True\n",
       "entrepreneur      True\n",
       "housemaid         True\n",
       "management       False\n",
       "retired          False\n",
       "self-employed    False\n",
       "services          True\n",
       "student          False\n",
       "technician       False\n",
       "unemployed       False\n",
       "unknown          False\n",
       "dtype: bool"
      ]
     },
     "execution_count": 101,
     "metadata": {},
     "output_type": "execute_result"
    }
   ],
   "source": [
    "average_response_rates_job*100 < 9"
   ]
  },
  {
   "cell_type": "code",
   "execution_count": 104,
   "id": "6dde64d6",
   "metadata": {},
   "outputs": [
    {
     "data": {
      "text/plain": [
       "4"
      ]
     },
     "execution_count": 104,
     "metadata": {},
     "output_type": "execute_result"
    }
   ],
   "source": [
    "(average_response_rates_job*100 < 9).sum()"
   ]
  },
  {
   "cell_type": "markdown",
   "id": "2ad934c4",
   "metadata": {},
   "source": [
    "##### 4 job categories have a response rate of less than 9%."
   ]
  },
  {
   "cell_type": "markdown",
   "id": "395b7fa6",
   "metadata": {},
   "source": [
    "#### Insight Analysis\n",
    "In this pattern of insight, the value or the result was unknown previously and is of significance to us. Now, given the statement that there are 4 categories which follow a certain trend that might be insightful was unknown to us previously, it follows the 'unknown result' pattern of insight."
   ]
  },
  {
   "cell_type": "markdown",
   "id": "b6c21947",
   "metadata": {},
   "source": [
    "### Question 4"
   ]
  },
  {
   "cell_type": "markdown",
   "id": "d97e23a0",
   "metadata": {},
   "source": [
    "For how many job categories is the average income equal to or higher than 55000 and the average response rate higher than the average of all the customers as well?"
   ]
  },
  {
   "cell_type": "code",
   "execution_count": 161,
   "id": "5fa7dd12",
   "metadata": {
    "scrolled": true
   },
   "outputs": [
    {
     "data": {
      "text/html": [
       "<div>\n",
       "<style scoped>\n",
       "    .dataframe tbody tr th:only-of-type {\n",
       "        vertical-align: middle;\n",
       "    }\n",
       "\n",
       "    .dataframe tbody tr th {\n",
       "        vertical-align: top;\n",
       "    }\n",
       "\n",
       "    .dataframe thead th {\n",
       "        text-align: right;\n",
       "    }\n",
       "</style>\n",
       "<table border=\"1\" class=\"dataframe\">\n",
       "  <thead>\n",
       "    <tr style=\"text-align: right;\">\n",
       "      <th></th>\n",
       "      <th>Job</th>\n",
       "      <th>Average Income</th>\n",
       "    </tr>\n",
       "  </thead>\n",
       "  <tbody>\n",
       "    <tr>\n",
       "      <th>0</th>\n",
       "      <td>admin.</td>\n",
       "      <td>50000</td>\n",
       "    </tr>\n",
       "    <tr>\n",
       "      <th>1</th>\n",
       "      <td>technician</td>\n",
       "      <td>60000</td>\n",
       "    </tr>\n",
       "    <tr>\n",
       "      <th>2</th>\n",
       "      <td>services</td>\n",
       "      <td>70000</td>\n",
       "    </tr>\n",
       "    <tr>\n",
       "      <th>3</th>\n",
       "      <td>management</td>\n",
       "      <td>100000</td>\n",
       "    </tr>\n",
       "    <tr>\n",
       "      <th>4</th>\n",
       "      <td>retired</td>\n",
       "      <td>55000</td>\n",
       "    </tr>\n",
       "  </tbody>\n",
       "</table>\n",
       "</div>"
      ],
      "text/plain": [
       "          Job  Average Income\n",
       "0      admin.           50000\n",
       "1  technician           60000\n",
       "2    services           70000\n",
       "3  management          100000\n",
       "4     retired           55000"
      ]
     },
     "execution_count": 161,
     "metadata": {},
     "output_type": "execute_result"
    }
   ],
   "source": [
    "inp1.head() # dataframe that contains income details"
   ]
  },
  {
   "cell_type": "code",
   "execution_count": 156,
   "id": "25e5b1a3",
   "metadata": {},
   "outputs": [
    {
     "data": {
      "text/plain": [
       "{'entrepreneur',\n",
       " 'management',\n",
       " 'retired',\n",
       " 'self-employed',\n",
       " 'services',\n",
       " 'technician'}"
      ]
     },
     "execution_count": 156,
     "metadata": {},
     "output_type": "execute_result"
    }
   ],
   "source": [
    "s1 = set(inp1.loc[inp1['Average Income']>= 55000,'Job']) \n",
    "s1 # job categories is the average income equal to or higher than 55000"
   ]
  },
  {
   "cell_type": "code",
   "execution_count": 136,
   "id": "92df34d2",
   "metadata": {},
   "outputs": [
    {
     "data": {
      "text/plain": [
       "job\n",
       "admin.           0.122027\n",
       "blue-collar      0.072750\n",
       "entrepreneur     0.082717\n",
       "housemaid        0.087903\n",
       "management       0.137556\n",
       "retired          0.227915\n",
       "self-employed    0.118429\n",
       "services         0.088830\n",
       "student          0.286780\n",
       "technician       0.110570\n",
       "unemployed       0.155027\n",
       "unknown          0.118056\n",
       "dtype: float64"
      ]
     },
     "execution_count": 136,
     "metadata": {},
     "output_type": "execute_result"
    }
   ],
   "source": [
    "average_response_rates_job "
   ]
  },
  {
   "cell_type": "code",
   "execution_count": 140,
   "id": "0196b68f",
   "metadata": {},
   "outputs": [
    {
     "data": {
      "text/plain": [
       "0.13404661488833422"
      ]
     },
     "execution_count": 140,
     "metadata": {},
     "output_type": "execute_result"
    }
   ],
   "source": [
    "average_response_rates_job.sum()/len(average_response_rates_job) #Average of the average_response_rates"
   ]
  },
  {
   "cell_type": "code",
   "execution_count": 158,
   "id": "f4fe70bd",
   "metadata": {},
   "outputs": [
    {
     "data": {
      "text/plain": [
       "{'management', 'retired', 'student', 'unemployed'}"
      ]
     },
     "execution_count": 158,
     "metadata": {},
     "output_type": "execute_result"
    }
   ],
   "source": [
    "s2 = set(average_response_rates_job[average_response_rates_job > 0.13404661488833422].index)\n",
    "s2 # categories with response rate higher than the average"
   ]
  },
  {
   "cell_type": "code",
   "execution_count": 159,
   "id": "8780a6fb",
   "metadata": {},
   "outputs": [
    {
     "data": {
      "text/plain": [
       "{'management', 'retired'}"
      ]
     },
     "execution_count": 159,
     "metadata": {},
     "output_type": "execute_result"
    }
   ],
   "source": [
    "s1.intersection(s2)"
   ]
  },
  {
   "cell_type": "markdown",
   "id": "c49ea475",
   "metadata": {},
   "source": [
    "#### we can see that 2 job categories follow this trend."
   ]
  },
  {
   "cell_type": "markdown",
   "id": "666b910d",
   "metadata": {},
   "source": [
    "### Question 5\n",
    "For which job category is the average balance for the customers who responded 'yes' to the campaign is lower than the average balance of those who responded 'no' to the campaign?"
   ]
  },
  {
   "cell_type": "code",
   "execution_count": 162,
   "id": "667fb0af",
   "metadata": {},
   "outputs": [
    {
     "data": {
      "text/html": [
       "<div>\n",
       "<style scoped>\n",
       "    .dataframe tbody tr th:only-of-type {\n",
       "        vertical-align: middle;\n",
       "    }\n",
       "\n",
       "    .dataframe tbody tr th {\n",
       "        vertical-align: top;\n",
       "    }\n",
       "\n",
       "    .dataframe thead th {\n",
       "        text-align: right;\n",
       "    }\n",
       "</style>\n",
       "<table border=\"1\" class=\"dataframe\">\n",
       "  <thead>\n",
       "    <tr style=\"text-align: right;\">\n",
       "      <th></th>\n",
       "      <th>age</th>\n",
       "      <th>job</th>\n",
       "      <th>marital</th>\n",
       "      <th>education</th>\n",
       "      <th>targeted</th>\n",
       "      <th>default</th>\n",
       "      <th>balance</th>\n",
       "      <th>housing</th>\n",
       "      <th>loan</th>\n",
       "      <th>contact</th>\n",
       "      <th>day</th>\n",
       "      <th>month</th>\n",
       "      <th>duration</th>\n",
       "      <th>response</th>\n",
       "      <th>response_flag</th>\n",
       "    </tr>\n",
       "  </thead>\n",
       "  <tbody>\n",
       "    <tr>\n",
       "      <th>0</th>\n",
       "      <td>58</td>\n",
       "      <td>management</td>\n",
       "      <td>married</td>\n",
       "      <td>tertiary</td>\n",
       "      <td>yes</td>\n",
       "      <td>no</td>\n",
       "      <td>2143</td>\n",
       "      <td>yes</td>\n",
       "      <td>no</td>\n",
       "      <td>unknown</td>\n",
       "      <td>5</td>\n",
       "      <td>may</td>\n",
       "      <td>261</td>\n",
       "      <td>no</td>\n",
       "      <td>0</td>\n",
       "    </tr>\n",
       "    <tr>\n",
       "      <th>1</th>\n",
       "      <td>44</td>\n",
       "      <td>technician</td>\n",
       "      <td>single</td>\n",
       "      <td>secondary</td>\n",
       "      <td>yes</td>\n",
       "      <td>no</td>\n",
       "      <td>29</td>\n",
       "      <td>yes</td>\n",
       "      <td>no</td>\n",
       "      <td>unknown</td>\n",
       "      <td>5</td>\n",
       "      <td>may</td>\n",
       "      <td>151</td>\n",
       "      <td>no</td>\n",
       "      <td>0</td>\n",
       "    </tr>\n",
       "    <tr>\n",
       "      <th>2</th>\n",
       "      <td>33</td>\n",
       "      <td>entrepreneur</td>\n",
       "      <td>married</td>\n",
       "      <td>secondary</td>\n",
       "      <td>yes</td>\n",
       "      <td>no</td>\n",
       "      <td>2</td>\n",
       "      <td>yes</td>\n",
       "      <td>yes</td>\n",
       "      <td>unknown</td>\n",
       "      <td>5</td>\n",
       "      <td>may</td>\n",
       "      <td>76</td>\n",
       "      <td>no</td>\n",
       "      <td>0</td>\n",
       "    </tr>\n",
       "    <tr>\n",
       "      <th>3</th>\n",
       "      <td>47</td>\n",
       "      <td>blue-collar</td>\n",
       "      <td>married</td>\n",
       "      <td>unknown</td>\n",
       "      <td>no</td>\n",
       "      <td>no</td>\n",
       "      <td>1506</td>\n",
       "      <td>yes</td>\n",
       "      <td>no</td>\n",
       "      <td>unknown</td>\n",
       "      <td>5</td>\n",
       "      <td>may</td>\n",
       "      <td>92</td>\n",
       "      <td>no</td>\n",
       "      <td>0</td>\n",
       "    </tr>\n",
       "    <tr>\n",
       "      <th>4</th>\n",
       "      <td>33</td>\n",
       "      <td>unknown</td>\n",
       "      <td>single</td>\n",
       "      <td>unknown</td>\n",
       "      <td>no</td>\n",
       "      <td>no</td>\n",
       "      <td>1</td>\n",
       "      <td>no</td>\n",
       "      <td>no</td>\n",
       "      <td>unknown</td>\n",
       "      <td>5</td>\n",
       "      <td>may</td>\n",
       "      <td>198</td>\n",
       "      <td>no</td>\n",
       "      <td>0</td>\n",
       "    </tr>\n",
       "  </tbody>\n",
       "</table>\n",
       "</div>"
      ],
      "text/plain": [
       "   age           job  marital  education targeted default  balance housing  \\\n",
       "0   58    management  married   tertiary      yes      no     2143     yes   \n",
       "1   44    technician   single  secondary      yes      no       29     yes   \n",
       "2   33  entrepreneur  married  secondary      yes      no        2     yes   \n",
       "3   47   blue-collar  married    unknown       no      no     1506     yes   \n",
       "4   33       unknown   single    unknown       no      no        1      no   \n",
       "\n",
       "  loan  contact  day month  duration response  response_flag  \n",
       "0   no  unknown    5   may       261       no              0  \n",
       "1   no  unknown    5   may       151       no              0  \n",
       "2  yes  unknown    5   may        76       no              0  \n",
       "3   no  unknown    5   may        92       no              0  \n",
       "4   no  unknown    5   may       198       no              0  "
      ]
     },
     "execution_count": 162,
     "metadata": {},
     "output_type": "execute_result"
    }
   ],
   "source": [
    "inp0.head()"
   ]
  },
  {
   "cell_type": "code",
   "execution_count": 164,
   "id": "25816b6d",
   "metadata": {},
   "outputs": [
    {
     "data": {
      "text/plain": [
       "job\n",
       "admin.           1135.838909\n",
       "blue-collar      1078.826654\n",
       "entrepreneur     1521.470074\n",
       "housemaid        1392.395161\n",
       "management       1763.616832\n",
       "retired          1984.215106\n",
       "self-employed    1647.970868\n",
       "services          997.088108\n",
       "student          1388.060768\n",
       "technician       1252.632092\n",
       "unemployed       1521.745971\n",
       "unknown          1772.357639\n",
       "Name: balance, dtype: float64"
      ]
     },
     "execution_count": 164,
     "metadata": {},
     "output_type": "execute_result"
    }
   ],
   "source": [
    "inp0.groupby('job').balance.mean()"
   ]
  },
  {
   "cell_type": "code",
   "execution_count": 171,
   "id": "37127337",
   "metadata": {},
   "outputs": [
    {
     "data": {
      "text/html": [
       "<div>\n",
       "<style scoped>\n",
       "    .dataframe tbody tr th:only-of-type {\n",
       "        vertical-align: middle;\n",
       "    }\n",
       "\n",
       "    .dataframe tbody tr th {\n",
       "        vertical-align: top;\n",
       "    }\n",
       "\n",
       "    .dataframe thead th {\n",
       "        text-align: right;\n",
       "    }\n",
       "</style>\n",
       "<table border=\"1\" class=\"dataframe\">\n",
       "  <thead>\n",
       "    <tr style=\"text-align: right;\">\n",
       "      <th></th>\n",
       "      <th>job</th>\n",
       "      <th>balance</th>\n",
       "      <th>response_flag</th>\n",
       "    </tr>\n",
       "  </thead>\n",
       "  <tbody>\n",
       "    <tr>\n",
       "      <th>0</th>\n",
       "      <td>management</td>\n",
       "      <td>2143</td>\n",
       "      <td>0</td>\n",
       "    </tr>\n",
       "    <tr>\n",
       "      <th>1</th>\n",
       "      <td>technician</td>\n",
       "      <td>29</td>\n",
       "      <td>0</td>\n",
       "    </tr>\n",
       "    <tr>\n",
       "      <th>2</th>\n",
       "      <td>entrepreneur</td>\n",
       "      <td>2</td>\n",
       "      <td>0</td>\n",
       "    </tr>\n",
       "    <tr>\n",
       "      <th>3</th>\n",
       "      <td>blue-collar</td>\n",
       "      <td>1506</td>\n",
       "      <td>0</td>\n",
       "    </tr>\n",
       "    <tr>\n",
       "      <th>4</th>\n",
       "      <td>unknown</td>\n",
       "      <td>1</td>\n",
       "      <td>0</td>\n",
       "    </tr>\n",
       "    <tr>\n",
       "      <th>...</th>\n",
       "      <td>...</td>\n",
       "      <td>...</td>\n",
       "      <td>...</td>\n",
       "    </tr>\n",
       "    <tr>\n",
       "      <th>45194</th>\n",
       "      <td>management</td>\n",
       "      <td>138</td>\n",
       "      <td>0</td>\n",
       "    </tr>\n",
       "    <tr>\n",
       "      <th>45198</th>\n",
       "      <td>management</td>\n",
       "      <td>1428</td>\n",
       "      <td>0</td>\n",
       "    </tr>\n",
       "    <tr>\n",
       "      <th>45199</th>\n",
       "      <td>blue-collar</td>\n",
       "      <td>1475</td>\n",
       "      <td>0</td>\n",
       "    </tr>\n",
       "    <tr>\n",
       "      <th>45209</th>\n",
       "      <td>blue-collar</td>\n",
       "      <td>668</td>\n",
       "      <td>0</td>\n",
       "    </tr>\n",
       "    <tr>\n",
       "      <th>45210</th>\n",
       "      <td>entrepreneur</td>\n",
       "      <td>2971</td>\n",
       "      <td>0</td>\n",
       "    </tr>\n",
       "  </tbody>\n",
       "</table>\n",
       "<p>39922 rows × 3 columns</p>\n",
       "</div>"
      ],
      "text/plain": [
       "                job  balance  response_flag\n",
       "0        management     2143              0\n",
       "1        technician       29              0\n",
       "2      entrepreneur        2              0\n",
       "3       blue-collar     1506              0\n",
       "4           unknown        1              0\n",
       "...             ...      ...            ...\n",
       "45194    management      138              0\n",
       "45198    management     1428              0\n",
       "45199   blue-collar     1475              0\n",
       "45209   blue-collar      668              0\n",
       "45210  entrepreneur     2971              0\n",
       "\n",
       "[39922 rows x 3 columns]"
      ]
     },
     "execution_count": 171,
     "metadata": {},
     "output_type": "execute_result"
    }
   ],
   "source": [
    "dummy_frame0 = inp0.loc[inp0['response_flag']==0,['job','balance','response_flag']] \n",
    "dummy_frame0"
   ]
  },
  {
   "cell_type": "code",
   "execution_count": 172,
   "id": "46315f83",
   "metadata": {},
   "outputs": [
    {
     "data": {
      "text/html": [
       "<div>\n",
       "<style scoped>\n",
       "    .dataframe tbody tr th:only-of-type {\n",
       "        vertical-align: middle;\n",
       "    }\n",
       "\n",
       "    .dataframe tbody tr th {\n",
       "        vertical-align: top;\n",
       "    }\n",
       "\n",
       "    .dataframe thead th {\n",
       "        text-align: right;\n",
       "    }\n",
       "</style>\n",
       "<table border=\"1\" class=\"dataframe\">\n",
       "  <thead>\n",
       "    <tr style=\"text-align: right;\">\n",
       "      <th></th>\n",
       "      <th>job</th>\n",
       "      <th>balance</th>\n",
       "      <th>response_flag</th>\n",
       "    </tr>\n",
       "  </thead>\n",
       "  <tbody>\n",
       "    <tr>\n",
       "      <th>83</th>\n",
       "      <td>admin.</td>\n",
       "      <td>2343</td>\n",
       "      <td>1</td>\n",
       "    </tr>\n",
       "    <tr>\n",
       "      <th>86</th>\n",
       "      <td>admin.</td>\n",
       "      <td>45</td>\n",
       "      <td>1</td>\n",
       "    </tr>\n",
       "    <tr>\n",
       "      <th>87</th>\n",
       "      <td>technician</td>\n",
       "      <td>1270</td>\n",
       "      <td>1</td>\n",
       "    </tr>\n",
       "    <tr>\n",
       "      <th>129</th>\n",
       "      <td>services</td>\n",
       "      <td>2476</td>\n",
       "      <td>1</td>\n",
       "    </tr>\n",
       "    <tr>\n",
       "      <th>168</th>\n",
       "      <td>admin.</td>\n",
       "      <td>184</td>\n",
       "      <td>1</td>\n",
       "    </tr>\n",
       "    <tr>\n",
       "      <th>...</th>\n",
       "      <td>...</td>\n",
       "      <td>...</td>\n",
       "      <td>...</td>\n",
       "    </tr>\n",
       "    <tr>\n",
       "      <th>45204</th>\n",
       "      <td>retired</td>\n",
       "      <td>2850</td>\n",
       "      <td>1</td>\n",
       "    </tr>\n",
       "    <tr>\n",
       "      <th>45205</th>\n",
       "      <td>technician</td>\n",
       "      <td>505</td>\n",
       "      <td>1</td>\n",
       "    </tr>\n",
       "    <tr>\n",
       "      <th>45206</th>\n",
       "      <td>technician</td>\n",
       "      <td>825</td>\n",
       "      <td>1</td>\n",
       "    </tr>\n",
       "    <tr>\n",
       "      <th>45207</th>\n",
       "      <td>retired</td>\n",
       "      <td>1729</td>\n",
       "      <td>1</td>\n",
       "    </tr>\n",
       "    <tr>\n",
       "      <th>45208</th>\n",
       "      <td>retired</td>\n",
       "      <td>5715</td>\n",
       "      <td>1</td>\n",
       "    </tr>\n",
       "  </tbody>\n",
       "</table>\n",
       "<p>5289 rows × 3 columns</p>\n",
       "</div>"
      ],
      "text/plain": [
       "              job  balance  response_flag\n",
       "83         admin.     2343              1\n",
       "86         admin.       45              1\n",
       "87     technician     1270              1\n",
       "129      services     2476              1\n",
       "168        admin.      184              1\n",
       "...           ...      ...            ...\n",
       "45204     retired     2850              1\n",
       "45205  technician      505              1\n",
       "45206  technician      825              1\n",
       "45207     retired     1729              1\n",
       "45208     retired     5715              1\n",
       "\n",
       "[5289 rows x 3 columns]"
      ]
     },
     "execution_count": 172,
     "metadata": {},
     "output_type": "execute_result"
    }
   ],
   "source": [
    "dummy_frame1 = inp0.loc[inp0['response_flag']==1,['job','balance','response_flag']] \n",
    "dummy_frame1"
   ]
  },
  {
   "cell_type": "code",
   "execution_count": 176,
   "id": "9c3c2ee4",
   "metadata": {},
   "outputs": [
    {
     "data": {
      "text/plain": [
       "job\n",
       "admin.           1093.942070\n",
       "blue-collar      1063.402371\n",
       "entrepreneur     1494.642229\n",
       "housemaid        1353.740053\n",
       "management       1703.472723\n",
       "retired          1775.685927\n",
       "self-employed    1553.418103\n",
       "services          985.851783\n",
       "student          1347.578475\n",
       "technician       1179.842830\n",
       "unemployed       1556.144414\n",
       "unknown          1710.712598\n",
       "Name: balance, dtype: float64"
      ]
     },
     "execution_count": 176,
     "metadata": {},
     "output_type": "execute_result"
    }
   ],
   "source": [
    "dummy_frame0.groupby('job')['balance'].mean()"
   ]
  },
  {
   "cell_type": "code",
   "execution_count": 177,
   "id": "d45dc849",
   "metadata": {},
   "outputs": [
    {
     "data": {
      "text/plain": [
       "job\n",
       "admin.           1437.283677\n",
       "blue-collar      1275.420904\n",
       "entrepreneur     1818.975610\n",
       "housemaid        1793.486239\n",
       "management       2140.707917\n",
       "retired          2690.627907\n",
       "self-employed    2351.807487\n",
       "services         1112.344173\n",
       "student          1488.739777\n",
       "technician       1838.152381\n",
       "unemployed       1334.257426\n",
       "unknown          2232.882353\n",
       "Name: balance, dtype: float64"
      ]
     },
     "execution_count": 177,
     "metadata": {},
     "output_type": "execute_result"
    }
   ],
   "source": [
    "dummy_frame1.groupby('job')['balance'].mean()"
   ]
  },
  {
   "cell_type": "markdown",
   "id": "38e284a9",
   "metadata": {},
   "source": [
    "frame = { 'YES': dummy_frame1.groupby('job')['balance'].mean(),'NO': dummy_frame0.groupby('job')['balance'].mean() }\n",
    "#Creating DataFrame by passing Dictionary\n",
    "result = pd.DataFrame(frame)\n",
    "result"
   ]
  },
  {
   "cell_type": "markdown",
   "id": "df4144b3",
   "metadata": {},
   "source": [
    "##### we can clearly see that the unemployed category shows this behaviour.\n"
   ]
  },
  {
   "cell_type": "markdown",
   "id": "cfc5e4ae",
   "metadata": {},
   "source": [
    "### Conculsions\n",
    "\n",
    "##### * The average response rate is 11.7 %\n",
    "##### * Job categories that have the top 2 average response rates are 'student' and 'retired'\n",
    "##### * 4 job categories have a response rate of less than 9%.\n",
    "##### * Job categories is the average income equal to or higher than 55000 and the average response rate higher than the average of all the customers are 'management' and 'retired'\n",
    "##### * Balance for the customers who responded 'yes' to the campaign is lower than the average balance of those who responded 'no' to the    campaign for unemployed category\n",
    "\n"
   ]
  },
  {
   "cell_type": "code",
   "execution_count": null,
   "id": "bdf803a0",
   "metadata": {},
   "outputs": [],
   "source": []
  }
 ],
 "metadata": {
  "kernelspec": {
   "display_name": "Python 3 (ipykernel)",
   "language": "python",
   "name": "python3"
  },
  "language_info": {
   "codemirror_mode": {
    "name": "ipython",
    "version": 3
   },
   "file_extension": ".py",
   "mimetype": "text/x-python",
   "name": "python",
   "nbconvert_exporter": "python",
   "pygments_lexer": "ipython3",
   "version": "3.9.7"
  }
 },
 "nbformat": 4,
 "nbformat_minor": 5
}
